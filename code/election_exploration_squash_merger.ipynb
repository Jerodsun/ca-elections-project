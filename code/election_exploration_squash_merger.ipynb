{
 "cells": [
  {
   "cell_type": "code",
   "execution_count": 1,
   "metadata": {},
   "outputs": [],
   "source": [
    "# Scientific Computing\n",
    "import pandas as pd\n",
    "pd.set_option('display.float_format', '{:.2f}'.format)\n",
    "pd.set_option('display.max_rows',100)\n",
    "pd.set_option('display.max_columns', 100)\n",
    "import matplotlib.pyplot as plt\n",
    "import numpy as np\n",
    "\n",
    "from scipy.stats import randint, uniform\n",
    "from sklearn.ensemble import GradientBoostingRegressor\n",
    "from sklearn.model_selection import RandomizedSearchCV, train_test_split #, GridSearchCV\n",
    "from sklearn.metrics import mean_squared_error, r2_score\n",
    "from sklearn.feature_selection import f_regression\n",
    "\n",
    "import pickle as p"
   ]
  },
  {
   "cell_type": "code",
   "execution_count": 2,
   "metadata": {},
   "outputs": [],
   "source": [
    "# Import census demographic data - arcgis\n",
    "census = pd.read_csv('census_arcgis_ca.csv', encoding='latin-1')\n",
    "\n",
    "# Import census demographic data - 2017 ACS\n",
    "census_acs = pd.read_csv('census_block_demographic.csv', skiprows=1)\n",
    "slicer = census_acs['GIS Join Match Code'].str[2:]\n",
    "slicer = slicer.str[0] + slicer.str[2:5] + slicer.str[6:]\n",
    "census_acs['FIPS'] = slicer.astype('int64')\n",
    "    \n",
    "# Import QGIS combined block group\n",
    "df = pd.read_csv('census_precinct_min.csv')\n",
    "\n",
    "#calculate coverage % of each row over the whole census area\n",
    "df['pct_whole'] = df['area_v']/df['area_p']\n",
    "\n",
    "#filter out null values - 2 % is arbitrary, negative offset\n",
    "df_reduc = df[df['pct_whole'] > 0.02]\n",
    "\n",
    "# Import precinct election results, 2016\n",
    "election = pd.read_csv('all_precinct_results_2016.csv', low_memory=False)"
   ]
  },
  {
   "cell_type": "code",
   "execution_count": 3,
   "metadata": {},
   "outputs": [],
   "source": [
    "# Working subset\n",
    "# election_tmp = election[['pct16', 'pres_clinton', 'pres_trump', 'ussenate_harris', 'ussenate_sanchez']]\n",
    "# election_tmp = election_tmp.iloc[:24568] # remove precinct summations for now\n",
    "\n",
    "election_tmp = election.iloc[:24568]"
   ]
  },
  {
   "cell_type": "code",
   "execution_count": 4,
   "metadata": {},
   "outputs": [],
   "source": [
    "# Merge QGIS with precincts\n",
    "cen_to_precinct = df_reduc.merge(election_tmp, on=\"pct16\")"
   ]
  },
  {
   "cell_type": "code",
   "execution_count": 5,
   "metadata": {
    "scrolled": true
   },
   "outputs": [
    {
     "data": {
      "text/plain": [
       "Index(['OBJECTID', 'area_c', 'pct16', 'layer', 'area_p', 'area_v', 'pct_whole',\n",
       "       'pres_clinton', 'pres_trump', 'pres_johnson', 'pres_stein',\n",
       "       'pres_lariva', 'pres_other', 'ussenate_harris', 'ussenate_sanchez',\n",
       "       'prop51_yes', 'prop51_no', 'prop52_yes', 'prop52_no', 'prop53_yes',\n",
       "       'prop53_no', 'prop54_yes', 'prop54_no', 'prop55_yes', 'prop55_no',\n",
       "       'prop56_yes', 'prop56_no', 'prop57_yes', 'prop57_no', 'prop58_yes',\n",
       "       'prop58_no', 'prop59_yes', 'prop59_no', 'prop60_yes', 'prop60_no',\n",
       "       'prop61_yes', 'prop61_no', 'prop62_yes', 'prop62_no', 'prop63_yes',\n",
       "       'prop63_no', 'prop64_yes', 'prop64_no', 'prop65_yes', 'prop65_no',\n",
       "       'prop66_yes', 'prop66_no', 'prop67_yes', 'prop67_no',\n",
       "       'pres_clinton_per', 'pres_trump_per', 'pres_third_per', 'pres_winner',\n",
       "       'pres_margin', 'votedensity', 'prop51_yes_per', 'prop51_no_per',\n",
       "       'prop52_yes_per', 'prop52_no_per', 'prop53_yes_per', 'prop53_no_per',\n",
       "       'prop54_yes_per', 'prop54_no_per', 'prop55_yes_per', 'prop55_no_per',\n",
       "       'prop56_yes_per', 'prop56_no_per', 'prop57_yes_per', 'prop57_no_per',\n",
       "       'prop58_yes_per', 'prop58_no_per', 'prop59_yes_per', 'prop59_no_per',\n",
       "       'prop60_yes_per', 'prop60_no_per', 'prop61_yes_per', 'prop61_no_per',\n",
       "       'prop62_yes_per', 'prop62_no_per', 'prop63_yes_per', 'prop63_no_per',\n",
       "       'prop64_yes_per', 'prop64_no_per', 'prop65_yes_per', 'prop65_no_per',\n",
       "       'prop66_yes_per', 'prop66_no_per', 'prop67_yes_per', 'prop67_no_per'],\n",
       "      dtype='object')"
      ]
     },
     "execution_count": 5,
     "metadata": {},
     "output_type": "execute_result"
    }
   ],
   "source": [
    "cen_to_precinct.columns"
   ]
  },
  {
   "cell_type": "code",
   "execution_count": 6,
   "metadata": {},
   "outputs": [],
   "source": [
    "# Take slice only for now; this is duplicable\n",
    "# Apply pct_whole scaling for each slice in census block group\n",
    "# This creates new columns scaled by precinct coverage of the census block group.\n",
    "\n",
    "reduce = ['pres_clinton', 'pres_trump', 'pres_johnson', 'pres_stein',\n",
    "       'pres_lariva', 'pres_other', 'ussenate_harris', 'ussenate_sanchez',\n",
    "       'prop51_yes', 'prop51_no', 'prop52_yes', 'prop52_no', 'prop53_yes',\n",
    "       'prop53_no', 'prop54_yes', 'prop54_no', 'prop55_yes', 'prop55_no',\n",
    "       'prop56_yes', 'prop56_no', 'prop57_yes', 'prop57_no', 'prop58_yes',\n",
    "       'prop58_no', 'prop59_yes', 'prop59_no', 'prop60_yes', 'prop60_no',\n",
    "       'prop61_yes', 'prop61_no', 'prop62_yes', 'prop62_no', 'prop63_yes',\n",
    "       'prop63_no', 'prop64_yes', 'prop64_no', 'prop65_yes', 'prop65_no',\n",
    "       'prop66_yes', 'prop66_no', 'prop67_yes', 'prop67_no', 'votedensity']\n",
    "\n",
    "manip = cen_to_precinct.copy()\n",
    "manip[ reduce ] = cen_to_precinct[reduce].multiply(cen_to_precinct['pct_whole'], axis=\"index\")\n"
   ]
  },
  {
   "cell_type": "code",
   "execution_count": 7,
   "metadata": {},
   "outputs": [],
   "source": [
    "# GROUPBY census block group and combine\n",
    "test = manip.groupby(['OBJECTID'])[reduce].sum().reset_index()"
   ]
  },
  {
   "cell_type": "code",
   "execution_count": 8,
   "metadata": {},
   "outputs": [
    {
     "data": {
      "text/plain": [
       "367"
      ]
     },
     "execution_count": 8,
     "metadata": {},
     "output_type": "execute_result"
    }
   ],
   "source": [
    "#len(test) # 22827\n",
    "#len(census) # 23194 \n",
    "len(census) - len(test) #QGIS process: census block group count that failed to match"
   ]
  },
  {
   "cell_type": "code",
   "execution_count": 9,
   "metadata": {},
   "outputs": [],
   "source": [
    "# Now merge with ArcGIS census data.\n",
    "output = test.merge(census, on=['OBJECTID'])"
   ]
  },
  {
   "cell_type": "code",
   "execution_count": 10,
   "metadata": {
    "scrolled": true
   },
   "outputs": [
    {
     "data": {
      "text/html": [
       "<div>\n",
       "<style scoped>\n",
       "    .dataframe tbody tr th:only-of-type {\n",
       "        vertical-align: middle;\n",
       "    }\n",
       "\n",
       "    .dataframe tbody tr th {\n",
       "        vertical-align: top;\n",
       "    }\n",
       "\n",
       "    .dataframe thead th {\n",
       "        text-align: right;\n",
       "    }\n",
       "</style>\n",
       "<table border=\"1\" class=\"dataframe\">\n",
       "  <thead>\n",
       "    <tr style=\"text-align: right;\">\n",
       "      <th></th>\n",
       "      <th>OBJECTID</th>\n",
       "      <th>pres_clinton</th>\n",
       "      <th>pres_trump</th>\n",
       "      <th>pres_johnson</th>\n",
       "      <th>pres_stein</th>\n",
       "      <th>pres_lariva</th>\n",
       "      <th>pres_other</th>\n",
       "      <th>ussenate_harris</th>\n",
       "      <th>ussenate_sanchez</th>\n",
       "      <th>prop51_yes</th>\n",
       "      <th>prop51_no</th>\n",
       "      <th>prop52_yes</th>\n",
       "      <th>prop52_no</th>\n",
       "      <th>prop53_yes</th>\n",
       "      <th>prop53_no</th>\n",
       "      <th>prop54_yes</th>\n",
       "      <th>prop54_no</th>\n",
       "      <th>prop55_yes</th>\n",
       "      <th>prop55_no</th>\n",
       "      <th>prop56_yes</th>\n",
       "      <th>prop56_no</th>\n",
       "      <th>prop57_yes</th>\n",
       "      <th>prop57_no</th>\n",
       "      <th>prop58_yes</th>\n",
       "      <th>prop58_no</th>\n",
       "      <th>prop59_yes</th>\n",
       "      <th>prop59_no</th>\n",
       "      <th>prop60_yes</th>\n",
       "      <th>prop60_no</th>\n",
       "      <th>prop61_yes</th>\n",
       "      <th>prop61_no</th>\n",
       "      <th>prop62_yes</th>\n",
       "      <th>prop62_no</th>\n",
       "      <th>prop63_yes</th>\n",
       "      <th>prop63_no</th>\n",
       "      <th>prop64_yes</th>\n",
       "      <th>prop64_no</th>\n",
       "      <th>prop65_yes</th>\n",
       "      <th>prop65_no</th>\n",
       "      <th>prop66_yes</th>\n",
       "      <th>prop66_no</th>\n",
       "      <th>prop67_yes</th>\n",
       "      <th>prop67_no</th>\n",
       "      <th>votedensity</th>\n",
       "      <th>STATE_FIPS</th>\n",
       "      <th>CNTY_FIPS</th>\n",
       "      <th>STCOFIPS</th>\n",
       "      <th>TRACT</th>\n",
       "      <th>BLKGRP</th>\n",
       "      <th>FIPS</th>\n",
       "      <th>POPULATION</th>\n",
       "      <th>POP_SQMI</th>\n",
       "      <th>POP2010</th>\n",
       "      <th>POP10_SQMI</th>\n",
       "      <th>WHITE</th>\n",
       "      <th>BLACK</th>\n",
       "      <th>AMERI_ES</th>\n",
       "      <th>ASIAN</th>\n",
       "      <th>HAWN_PI</th>\n",
       "      <th>HISPANIC</th>\n",
       "      <th>OTHER</th>\n",
       "      <th>MULT_RACE</th>\n",
       "      <th>MALES</th>\n",
       "      <th>FEMALES</th>\n",
       "      <th>AGE_UNDER5</th>\n",
       "      <th>AGE_5_9</th>\n",
       "      <th>AGE_10_14</th>\n",
       "      <th>AGE_15_19</th>\n",
       "      <th>AGE_20_24</th>\n",
       "      <th>AGE_25_34</th>\n",
       "      <th>AGE_35_44</th>\n",
       "      <th>AGE_45_54</th>\n",
       "      <th>AGE_55_64</th>\n",
       "      <th>AGE_65_74</th>\n",
       "      <th>AGE_75_84</th>\n",
       "      <th>AGE_85_UP</th>\n",
       "      <th>MED_AGE</th>\n",
       "      <th>MED_AGE_M</th>\n",
       "      <th>MED_AGE_F</th>\n",
       "      <th>HOUSEHOLDS</th>\n",
       "      <th>AVE_HH_SZ</th>\n",
       "      <th>HSEHLD_1_M</th>\n",
       "      <th>HSEHLD_1_F</th>\n",
       "      <th>MARHH_CHD</th>\n",
       "      <th>MARHH_NO_C</th>\n",
       "      <th>MHH_CHILD</th>\n",
       "      <th>FHH_CHILD</th>\n",
       "      <th>FAMILIES</th>\n",
       "      <th>AVE_FAM_SZ</th>\n",
       "      <th>HSE_UNITS</th>\n",
       "      <th>VACANT</th>\n",
       "      <th>OWNER_OCC</th>\n",
       "      <th>RENTER_OCC</th>\n",
       "      <th>SQMI</th>\n",
       "      <th>Shape_Leng</th>\n",
       "      <th>Shape_Area</th>\n",
       "      <th>area_c</th>\n",
       "    </tr>\n",
       "  </thead>\n",
       "  <tbody>\n",
       "    <tr>\n",
       "      <th>0</th>\n",
       "      <td>1386.00</td>\n",
       "      <td>193.72</td>\n",
       "      <td>235.21</td>\n",
       "      <td>24.31</td>\n",
       "      <td>7.59</td>\n",
       "      <td>1.46</td>\n",
       "      <td>0.00</td>\n",
       "      <td>199.93</td>\n",
       "      <td>172.54</td>\n",
       "      <td>409.99</td>\n",
       "      <td>501.46</td>\n",
       "      <td>271.79</td>\n",
       "      <td>176.53</td>\n",
       "      <td>262.05</td>\n",
       "      <td>185.13</td>\n",
       "      <td>307.67</td>\n",
       "      <td>140.57</td>\n",
       "      <td>224.68</td>\n",
       "      <td>230.23</td>\n",
       "      <td>251.85</td>\n",
       "      <td>210.17</td>\n",
       "      <td>275.93</td>\n",
       "      <td>185.44</td>\n",
       "      <td>304.40</td>\n",
       "      <td>151.82</td>\n",
       "      <td>197.06</td>\n",
       "      <td>234.10</td>\n",
       "      <td>192.28</td>\n",
       "      <td>250.19</td>\n",
       "      <td>185.94</td>\n",
       "      <td>261.37</td>\n",
       "      <td>168.91</td>\n",
       "      <td>288.42</td>\n",
       "      <td>209.15</td>\n",
       "      <td>252.36</td>\n",
       "      <td>260.13</td>\n",
       "      <td>210.38</td>\n",
       "      <td>191.06</td>\n",
       "      <td>261.41</td>\n",
       "      <td>241.28</td>\n",
       "      <td>192.82</td>\n",
       "      <td>215.81</td>\n",
       "      <td>242.42</td>\n",
       "      <td>352.76</td>\n",
       "      <td>6</td>\n",
       "      <td>83</td>\n",
       "      <td>6083</td>\n",
       "      <td>3102</td>\n",
       "      <td>1</td>\n",
       "      <td>60830031021</td>\n",
       "      <td>842</td>\n",
       "      <td>4.30</td>\n",
       "      <td>825</td>\n",
       "      <td>4.20</td>\n",
       "      <td>680</td>\n",
       "      <td>10</td>\n",
       "      <td>9</td>\n",
       "      <td>12</td>\n",
       "      <td>0</td>\n",
       "      <td>158</td>\n",
       "      <td>80</td>\n",
       "      <td>34</td>\n",
       "      <td>422</td>\n",
       "      <td>403</td>\n",
       "      <td>38</td>\n",
       "      <td>44</td>\n",
       "      <td>56</td>\n",
       "      <td>59</td>\n",
       "      <td>34</td>\n",
       "      <td>71</td>\n",
       "      <td>91</td>\n",
       "      <td>157</td>\n",
       "      <td>161</td>\n",
       "      <td>57</td>\n",
       "      <td>37</td>\n",
       "      <td>20</td>\n",
       "      <td>46.20</td>\n",
       "      <td>47.30</td>\n",
       "      <td>45.30</td>\n",
       "      <td>321</td>\n",
       "      <td>2.56</td>\n",
       "      <td>46</td>\n",
       "      <td>31</td>\n",
       "      <td>65</td>\n",
       "      <td>118</td>\n",
       "      <td>9</td>\n",
       "      <td>15</td>\n",
       "      <td>220</td>\n",
       "      <td>3.04</td>\n",
       "      <td>410</td>\n",
       "      <td>89</td>\n",
       "      <td>135</td>\n",
       "      <td>186</td>\n",
       "      <td>195.57</td>\n",
       "      <td>1.40</td>\n",
       "      <td>0.05</td>\n",
       "      <td>506526787</td>\n",
       "    </tr>\n",
       "    <tr>\n",
       "      <th>1</th>\n",
       "      <td>1389.00</td>\n",
       "      <td>115.30</td>\n",
       "      <td>57.64</td>\n",
       "      <td>7.12</td>\n",
       "      <td>4.14</td>\n",
       "      <td>2.02</td>\n",
       "      <td>0.00</td>\n",
       "      <td>109.40</td>\n",
       "      <td>49.62</td>\n",
       "      <td>200.94</td>\n",
       "      <td>159.41</td>\n",
       "      <td>115.82</td>\n",
       "      <td>61.41</td>\n",
       "      <td>94.31</td>\n",
       "      <td>86.24</td>\n",
       "      <td>110.46</td>\n",
       "      <td>66.78</td>\n",
       "      <td>107.40</td>\n",
       "      <td>73.80</td>\n",
       "      <td>120.74</td>\n",
       "      <td>61.08</td>\n",
       "      <td>124.88</td>\n",
       "      <td>52.46</td>\n",
       "      <td>135.14</td>\n",
       "      <td>45.16</td>\n",
       "      <td>78.13</td>\n",
       "      <td>88.33</td>\n",
       "      <td>71.20</td>\n",
       "      <td>98.73</td>\n",
       "      <td>88.66</td>\n",
       "      <td>86.06</td>\n",
       "      <td>80.70</td>\n",
       "      <td>95.96</td>\n",
       "      <td>102.49</td>\n",
       "      <td>79.87</td>\n",
       "      <td>110.70</td>\n",
       "      <td>73.73</td>\n",
       "      <td>99.59</td>\n",
       "      <td>74.42</td>\n",
       "      <td>90.48</td>\n",
       "      <td>81.10</td>\n",
       "      <td>119.68</td>\n",
       "      <td>59.50</td>\n",
       "      <td>320.98</td>\n",
       "      <td>6</td>\n",
       "      <td>83</td>\n",
       "      <td>6083</td>\n",
       "      <td>1906</td>\n",
       "      <td>5</td>\n",
       "      <td>60830019065</td>\n",
       "      <td>1143</td>\n",
       "      <td>116.90</td>\n",
       "      <td>1084</td>\n",
       "      <td>110.80</td>\n",
       "      <td>788</td>\n",
       "      <td>2</td>\n",
       "      <td>178</td>\n",
       "      <td>7</td>\n",
       "      <td>0</td>\n",
       "      <td>244</td>\n",
       "      <td>46</td>\n",
       "      <td>63</td>\n",
       "      <td>507</td>\n",
       "      <td>577</td>\n",
       "      <td>53</td>\n",
       "      <td>51</td>\n",
       "      <td>66</td>\n",
       "      <td>69</td>\n",
       "      <td>46</td>\n",
       "      <td>77</td>\n",
       "      <td>124</td>\n",
       "      <td>176</td>\n",
       "      <td>183</td>\n",
       "      <td>102</td>\n",
       "      <td>84</td>\n",
       "      <td>53</td>\n",
       "      <td>48.20</td>\n",
       "      <td>47.20</td>\n",
       "      <td>49.10</td>\n",
       "      <td>442</td>\n",
       "      <td>2.45</td>\n",
       "      <td>43</td>\n",
       "      <td>84</td>\n",
       "      <td>75</td>\n",
       "      <td>154</td>\n",
       "      <td>13</td>\n",
       "      <td>29</td>\n",
       "      <td>295</td>\n",
       "      <td>3.01</td>\n",
       "      <td>520</td>\n",
       "      <td>78</td>\n",
       "      <td>315</td>\n",
       "      <td>127</td>\n",
       "      <td>9.78</td>\n",
       "      <td>0.26</td>\n",
       "      <td>0.00</td>\n",
       "      <td>25322508</td>\n",
       "    </tr>\n",
       "    <tr>\n",
       "      <th>2</th>\n",
       "      <td>1390.00</td>\n",
       "      <td>185.07</td>\n",
       "      <td>198.27</td>\n",
       "      <td>19.14</td>\n",
       "      <td>5.83</td>\n",
       "      <td>0.81</td>\n",
       "      <td>0.00</td>\n",
       "      <td>189.70</td>\n",
       "      <td>142.10</td>\n",
       "      <td>345.67</td>\n",
       "      <td>465.55</td>\n",
       "      <td>235.17</td>\n",
       "      <td>160.32</td>\n",
       "      <td>209.23</td>\n",
       "      <td>182.71</td>\n",
       "      <td>259.53</td>\n",
       "      <td>139.64</td>\n",
       "      <td>212.97</td>\n",
       "      <td>191.35</td>\n",
       "      <td>248.07</td>\n",
       "      <td>169.89</td>\n",
       "      <td>229.95</td>\n",
       "      <td>178.85</td>\n",
       "      <td>273.22</td>\n",
       "      <td>138.12</td>\n",
       "      <td>179.47</td>\n",
       "      <td>210.29</td>\n",
       "      <td>156.59</td>\n",
       "      <td>234.62</td>\n",
       "      <td>161.39</td>\n",
       "      <td>236.62</td>\n",
       "      <td>164.55</td>\n",
       "      <td>247.87</td>\n",
       "      <td>209.48</td>\n",
       "      <td>205.31</td>\n",
       "      <td>215.07</td>\n",
       "      <td>207.62</td>\n",
       "      <td>171.67</td>\n",
       "      <td>233.40</td>\n",
       "      <td>193.28</td>\n",
       "      <td>191.55</td>\n",
       "      <td>204.88</td>\n",
       "      <td>208.27</td>\n",
       "      <td>426.83</td>\n",
       "      <td>6</td>\n",
       "      <td>83</td>\n",
       "      <td>6083</td>\n",
       "      <td>1903</td>\n",
       "      <td>3</td>\n",
       "      <td>60830019033</td>\n",
       "      <td>847</td>\n",
       "      <td>1486.00</td>\n",
       "      <td>822</td>\n",
       "      <td>1442.10</td>\n",
       "      <td>731</td>\n",
       "      <td>3</td>\n",
       "      <td>6</td>\n",
       "      <td>9</td>\n",
       "      <td>1</td>\n",
       "      <td>113</td>\n",
       "      <td>42</td>\n",
       "      <td>30</td>\n",
       "      <td>414</td>\n",
       "      <td>408</td>\n",
       "      <td>30</td>\n",
       "      <td>34</td>\n",
       "      <td>55</td>\n",
       "      <td>64</td>\n",
       "      <td>43</td>\n",
       "      <td>41</td>\n",
       "      <td>91</td>\n",
       "      <td>144</td>\n",
       "      <td>133</td>\n",
       "      <td>90</td>\n",
       "      <td>71</td>\n",
       "      <td>26</td>\n",
       "      <td>48.80</td>\n",
       "      <td>48.60</td>\n",
       "      <td>49.10</td>\n",
       "      <td>333</td>\n",
       "      <td>2.45</td>\n",
       "      <td>32</td>\n",
       "      <td>38</td>\n",
       "      <td>64</td>\n",
       "      <td>127</td>\n",
       "      <td>11</td>\n",
       "      <td>18</td>\n",
       "      <td>243</td>\n",
       "      <td>2.81</td>\n",
       "      <td>428</td>\n",
       "      <td>95</td>\n",
       "      <td>246</td>\n",
       "      <td>87</td>\n",
       "      <td>0.57</td>\n",
       "      <td>0.07</td>\n",
       "      <td>0.00</td>\n",
       "      <td>1483883</td>\n",
       "    </tr>\n",
       "    <tr>\n",
       "      <th>3</th>\n",
       "      <td>1391.00</td>\n",
       "      <td>400.18</td>\n",
       "      <td>390.19</td>\n",
       "      <td>24.67</td>\n",
       "      <td>9.48</td>\n",
       "      <td>1.41</td>\n",
       "      <td>0.00</td>\n",
       "      <td>394.02</td>\n",
       "      <td>268.97</td>\n",
       "      <td>651.15</td>\n",
       "      <td>965.17</td>\n",
       "      <td>492.93</td>\n",
       "      <td>291.41</td>\n",
       "      <td>418.94</td>\n",
       "      <td>361.27</td>\n",
       "      <td>501.31</td>\n",
       "      <td>280.33</td>\n",
       "      <td>402.62</td>\n",
       "      <td>394.46</td>\n",
       "      <td>477.33</td>\n",
       "      <td>338.45</td>\n",
       "      <td>458.07</td>\n",
       "      <td>331.07</td>\n",
       "      <td>518.70</td>\n",
       "      <td>282.51</td>\n",
       "      <td>343.87</td>\n",
       "      <td>414.22</td>\n",
       "      <td>327.53</td>\n",
       "      <td>447.48</td>\n",
       "      <td>321.45</td>\n",
       "      <td>455.82</td>\n",
       "      <td>333.85</td>\n",
       "      <td>461.55</td>\n",
       "      <td>436.32</td>\n",
       "      <td>374.71</td>\n",
       "      <td>421.29</td>\n",
       "      <td>399.07</td>\n",
       "      <td>365.25</td>\n",
       "      <td>432.81</td>\n",
       "      <td>389.20</td>\n",
       "      <td>364.58</td>\n",
       "      <td>418.31</td>\n",
       "      <td>388.07</td>\n",
       "      <td>1538.33</td>\n",
       "      <td>6</td>\n",
       "      <td>83</td>\n",
       "      <td>6083</td>\n",
       "      <td>1903</td>\n",
       "      <td>4</td>\n",
       "      <td>60830019034</td>\n",
       "      <td>2402</td>\n",
       "      <td>906.40</td>\n",
       "      <td>2027</td>\n",
       "      <td>764.90</td>\n",
       "      <td>1549</td>\n",
       "      <td>24</td>\n",
       "      <td>23</td>\n",
       "      <td>24</td>\n",
       "      <td>0</td>\n",
       "      <td>830</td>\n",
       "      <td>349</td>\n",
       "      <td>58</td>\n",
       "      <td>965</td>\n",
       "      <td>1062</td>\n",
       "      <td>129</td>\n",
       "      <td>115</td>\n",
       "      <td>139</td>\n",
       "      <td>128</td>\n",
       "      <td>114</td>\n",
       "      <td>253</td>\n",
       "      <td>247</td>\n",
       "      <td>289</td>\n",
       "      <td>216</td>\n",
       "      <td>163</td>\n",
       "      <td>116</td>\n",
       "      <td>118</td>\n",
       "      <td>41.00</td>\n",
       "      <td>36.90</td>\n",
       "      <td>44.50</td>\n",
       "      <td>834</td>\n",
       "      <td>2.37</td>\n",
       "      <td>86</td>\n",
       "      <td>198</td>\n",
       "      <td>179</td>\n",
       "      <td>191</td>\n",
       "      <td>24</td>\n",
       "      <td>50</td>\n",
       "      <td>488</td>\n",
       "      <td>3.11</td>\n",
       "      <td>937</td>\n",
       "      <td>103</td>\n",
       "      <td>379</td>\n",
       "      <td>455</td>\n",
       "      <td>2.65</td>\n",
       "      <td>0.14</td>\n",
       "      <td>0.00</td>\n",
       "      <td>6858597</td>\n",
       "    </tr>\n",
       "    <tr>\n",
       "      <th>4</th>\n",
       "      <td>1392.00</td>\n",
       "      <td>244.36</td>\n",
       "      <td>160.16</td>\n",
       "      <td>15.84</td>\n",
       "      <td>12.55</td>\n",
       "      <td>1.62</td>\n",
       "      <td>0.00</td>\n",
       "      <td>238.55</td>\n",
       "      <td>130.84</td>\n",
       "      <td>434.93</td>\n",
       "      <td>438.11</td>\n",
       "      <td>289.86</td>\n",
       "      <td>137.79</td>\n",
       "      <td>179.39</td>\n",
       "      <td>247.96</td>\n",
       "      <td>288.33</td>\n",
       "      <td>144.88</td>\n",
       "      <td>245.73</td>\n",
       "      <td>192.00</td>\n",
       "      <td>299.13</td>\n",
       "      <td>144.64</td>\n",
       "      <td>304.60</td>\n",
       "      <td>128.11</td>\n",
       "      <td>314.16</td>\n",
       "      <td>124.21</td>\n",
       "      <td>247.17</td>\n",
       "      <td>176.43</td>\n",
       "      <td>166.61</td>\n",
       "      <td>259.15</td>\n",
       "      <td>221.28</td>\n",
       "      <td>203.50</td>\n",
       "      <td>250.38</td>\n",
       "      <td>192.70</td>\n",
       "      <td>266.49</td>\n",
       "      <td>177.79</td>\n",
       "      <td>267.53</td>\n",
       "      <td>180.90</td>\n",
       "      <td>164.75</td>\n",
       "      <td>264.48</td>\n",
       "      <td>171.19</td>\n",
       "      <td>245.46</td>\n",
       "      <td>275.65</td>\n",
       "      <td>163.93</td>\n",
       "      <td>6.09</td>\n",
       "      <td>6</td>\n",
       "      <td>83</td>\n",
       "      <td>6083</td>\n",
       "      <td>2932</td>\n",
       "      <td>1</td>\n",
       "      <td>60830029321</td>\n",
       "      <td>609</td>\n",
       "      <td>7.30</td>\n",
       "      <td>577</td>\n",
       "      <td>7.00</td>\n",
       "      <td>396</td>\n",
       "      <td>1</td>\n",
       "      <td>0</td>\n",
       "      <td>27</td>\n",
       "      <td>0</td>\n",
       "      <td>248</td>\n",
       "      <td>140</td>\n",
       "      <td>13</td>\n",
       "      <td>318</td>\n",
       "      <td>259</td>\n",
       "      <td>42</td>\n",
       "      <td>25</td>\n",
       "      <td>39</td>\n",
       "      <td>39</td>\n",
       "      <td>34</td>\n",
       "      <td>71</td>\n",
       "      <td>79</td>\n",
       "      <td>103</td>\n",
       "      <td>90</td>\n",
       "      <td>37</td>\n",
       "      <td>13</td>\n",
       "      <td>5</td>\n",
       "      <td>39.10</td>\n",
       "      <td>39.70</td>\n",
       "      <td>38.20</td>\n",
       "      <td>204</td>\n",
       "      <td>2.83</td>\n",
       "      <td>44</td>\n",
       "      <td>12</td>\n",
       "      <td>54</td>\n",
       "      <td>59</td>\n",
       "      <td>6</td>\n",
       "      <td>9</td>\n",
       "      <td>137</td>\n",
       "      <td>3.34</td>\n",
       "      <td>249</td>\n",
       "      <td>45</td>\n",
       "      <td>73</td>\n",
       "      <td>131</td>\n",
       "      <td>82.92</td>\n",
       "      <td>0.94</td>\n",
       "      <td>0.02</td>\n",
       "      <td>214759550</td>\n",
       "    </tr>\n",
       "  </tbody>\n",
       "</table>\n",
       "</div>"
      ],
      "text/plain": [
       "   OBJECTID  pres_clinton  pres_trump  pres_johnson  pres_stein  pres_lariva  \\\n",
       "0   1386.00        193.72      235.21         24.31        7.59         1.46   \n",
       "1   1389.00        115.30       57.64          7.12        4.14         2.02   \n",
       "2   1390.00        185.07      198.27         19.14        5.83         0.81   \n",
       "3   1391.00        400.18      390.19         24.67        9.48         1.41   \n",
       "4   1392.00        244.36      160.16         15.84       12.55         1.62   \n",
       "\n",
       "   pres_other  ussenate_harris  ussenate_sanchez  prop51_yes  prop51_no  \\\n",
       "0        0.00           199.93            172.54      409.99     501.46   \n",
       "1        0.00           109.40             49.62      200.94     159.41   \n",
       "2        0.00           189.70            142.10      345.67     465.55   \n",
       "3        0.00           394.02            268.97      651.15     965.17   \n",
       "4        0.00           238.55            130.84      434.93     438.11   \n",
       "\n",
       "   prop52_yes  prop52_no  prop53_yes  prop53_no  prop54_yes  prop54_no  \\\n",
       "0      271.79     176.53      262.05     185.13      307.67     140.57   \n",
       "1      115.82      61.41       94.31      86.24      110.46      66.78   \n",
       "2      235.17     160.32      209.23     182.71      259.53     139.64   \n",
       "3      492.93     291.41      418.94     361.27      501.31     280.33   \n",
       "4      289.86     137.79      179.39     247.96      288.33     144.88   \n",
       "\n",
       "   prop55_yes  prop55_no  prop56_yes  prop56_no  prop57_yes  prop57_no  \\\n",
       "0      224.68     230.23      251.85     210.17      275.93     185.44   \n",
       "1      107.40      73.80      120.74      61.08      124.88      52.46   \n",
       "2      212.97     191.35      248.07     169.89      229.95     178.85   \n",
       "3      402.62     394.46      477.33     338.45      458.07     331.07   \n",
       "4      245.73     192.00      299.13     144.64      304.60     128.11   \n",
       "\n",
       "   prop58_yes  prop58_no  prop59_yes  prop59_no  prop60_yes  prop60_no  \\\n",
       "0      304.40     151.82      197.06     234.10      192.28     250.19   \n",
       "1      135.14      45.16       78.13      88.33       71.20      98.73   \n",
       "2      273.22     138.12      179.47     210.29      156.59     234.62   \n",
       "3      518.70     282.51      343.87     414.22      327.53     447.48   \n",
       "4      314.16     124.21      247.17     176.43      166.61     259.15   \n",
       "\n",
       "   prop61_yes  prop61_no  prop62_yes  prop62_no  prop63_yes  prop63_no  \\\n",
       "0      185.94     261.37      168.91     288.42      209.15     252.36   \n",
       "1       88.66      86.06       80.70      95.96      102.49      79.87   \n",
       "2      161.39     236.62      164.55     247.87      209.48     205.31   \n",
       "3      321.45     455.82      333.85     461.55      436.32     374.71   \n",
       "4      221.28     203.50      250.38     192.70      266.49     177.79   \n",
       "\n",
       "   prop64_yes  prop64_no  prop65_yes  prop65_no  prop66_yes  prop66_no  \\\n",
       "0      260.13     210.38      191.06     261.41      241.28     192.82   \n",
       "1      110.70      73.73       99.59      74.42       90.48      81.10   \n",
       "2      215.07     207.62      171.67     233.40      193.28     191.55   \n",
       "3      421.29     399.07      365.25     432.81      389.20     364.58   \n",
       "4      267.53     180.90      164.75     264.48      171.19     245.46   \n",
       "\n",
       "   prop67_yes  prop67_no  votedensity  STATE_FIPS  CNTY_FIPS  STCOFIPS  TRACT  \\\n",
       "0      215.81     242.42       352.76           6         83      6083   3102   \n",
       "1      119.68      59.50       320.98           6         83      6083   1906   \n",
       "2      204.88     208.27       426.83           6         83      6083   1903   \n",
       "3      418.31     388.07      1538.33           6         83      6083   1903   \n",
       "4      275.65     163.93         6.09           6         83      6083   2932   \n",
       "\n",
       "   BLKGRP         FIPS  POPULATION  POP_SQMI  POP2010  POP10_SQMI  WHITE  \\\n",
       "0       1  60830031021         842      4.30      825        4.20    680   \n",
       "1       5  60830019065        1143    116.90     1084      110.80    788   \n",
       "2       3  60830019033         847   1486.00      822     1442.10    731   \n",
       "3       4  60830019034        2402    906.40     2027      764.90   1549   \n",
       "4       1  60830029321         609      7.30      577        7.00    396   \n",
       "\n",
       "   BLACK  AMERI_ES  ASIAN  HAWN_PI  HISPANIC  OTHER  MULT_RACE  MALES  \\\n",
       "0     10         9     12        0       158     80         34    422   \n",
       "1      2       178      7        0       244     46         63    507   \n",
       "2      3         6      9        1       113     42         30    414   \n",
       "3     24        23     24        0       830    349         58    965   \n",
       "4      1         0     27        0       248    140         13    318   \n",
       "\n",
       "   FEMALES  AGE_UNDER5  AGE_5_9  AGE_10_14  AGE_15_19  AGE_20_24  AGE_25_34  \\\n",
       "0      403          38       44         56         59         34         71   \n",
       "1      577          53       51         66         69         46         77   \n",
       "2      408          30       34         55         64         43         41   \n",
       "3     1062         129      115        139        128        114        253   \n",
       "4      259          42       25         39         39         34         71   \n",
       "\n",
       "   AGE_35_44  AGE_45_54  AGE_55_64  AGE_65_74  AGE_75_84  AGE_85_UP  MED_AGE  \\\n",
       "0         91        157        161         57         37         20    46.20   \n",
       "1        124        176        183        102         84         53    48.20   \n",
       "2         91        144        133         90         71         26    48.80   \n",
       "3        247        289        216        163        116        118    41.00   \n",
       "4         79        103         90         37         13          5    39.10   \n",
       "\n",
       "   MED_AGE_M  MED_AGE_F  HOUSEHOLDS  AVE_HH_SZ  HSEHLD_1_M  HSEHLD_1_F  \\\n",
       "0      47.30      45.30         321       2.56          46          31   \n",
       "1      47.20      49.10         442       2.45          43          84   \n",
       "2      48.60      49.10         333       2.45          32          38   \n",
       "3      36.90      44.50         834       2.37          86         198   \n",
       "4      39.70      38.20         204       2.83          44          12   \n",
       "\n",
       "   MARHH_CHD  MARHH_NO_C  MHH_CHILD  FHH_CHILD  FAMILIES  AVE_FAM_SZ  \\\n",
       "0         65         118          9         15       220        3.04   \n",
       "1         75         154         13         29       295        3.01   \n",
       "2         64         127         11         18       243        2.81   \n",
       "3        179         191         24         50       488        3.11   \n",
       "4         54          59          6          9       137        3.34   \n",
       "\n",
       "   HSE_UNITS  VACANT  OWNER_OCC  RENTER_OCC   SQMI  Shape_Leng  Shape_Area  \\\n",
       "0        410      89        135         186 195.57        1.40        0.05   \n",
       "1        520      78        315         127   9.78        0.26        0.00   \n",
       "2        428      95        246          87   0.57        0.07        0.00   \n",
       "3        937     103        379         455   2.65        0.14        0.00   \n",
       "4        249      45         73         131  82.92        0.94        0.02   \n",
       "\n",
       "      area_c  \n",
       "0  506526787  \n",
       "1   25322508  \n",
       "2    1483883  \n",
       "3    6858597  \n",
       "4  214759550  "
      ]
     },
     "execution_count": 10,
     "metadata": {},
     "output_type": "execute_result"
    }
   ],
   "source": [
    "output.head()"
   ]
  },
  {
   "cell_type": "code",
   "execution_count": 11,
   "metadata": {},
   "outputs": [],
   "source": [
    "# merge with census data ACS...\n",
    "output = output.merge(census_acs, on='FIPS')"
   ]
  },
  {
   "cell_type": "code",
   "execution_count": 12,
   "metadata": {
    "scrolled": true
   },
   "outputs": [
    {
     "data": {
      "text/plain": [
       "Index(['OBJECTID', 'pres_clinton', 'pres_trump', 'pres_johnson', 'pres_stein',\n",
       "       'pres_lariva', 'pres_other', 'ussenate_harris', 'ussenate_sanchez',\n",
       "       'prop51_yes', 'prop51_no', 'prop52_yes', 'prop52_no', 'prop53_yes',\n",
       "       'prop53_no', 'prop54_yes', 'prop54_no', 'prop55_yes', 'prop55_no',\n",
       "       'prop56_yes', 'prop56_no', 'prop57_yes', 'prop57_no', 'prop58_yes',\n",
       "       'prop58_no', 'prop59_yes', 'prop59_no', 'prop60_yes', 'prop60_no',\n",
       "       'prop61_yes', 'prop61_no', 'prop62_yes', 'prop62_no', 'prop63_yes',\n",
       "       'prop63_no', 'prop64_yes', 'prop64_no', 'prop65_yes', 'prop65_no',\n",
       "       'prop66_yes', 'prop66_no', 'prop67_yes', 'prop67_no', 'votedensity'],\n",
       "      dtype='object')"
      ]
     },
     "execution_count": 12,
     "metadata": {},
     "output_type": "execute_result"
    }
   ],
   "source": [
    "(output.columns)[:44]"
   ]
  },
  {
   "cell_type": "code",
   "execution_count": 13,
   "metadata": {},
   "outputs": [
    {
     "data": {
      "text/plain": [
       "Index(['STATE_FIPS', 'CNTY_FIPS', 'STCOFIPS', 'TRACT', 'BLKGRP', 'FIPS',\n",
       "       'POPULATION', 'POP_SQMI', 'POP2010', 'POP10_SQMI', 'WHITE', 'BLACK',\n",
       "       'AMERI_ES', 'ASIAN', 'HAWN_PI', 'HISPANIC', 'OTHER', 'MULT_RACE',\n",
       "       'MALES', 'FEMALES', 'AGE_UNDER5', 'AGE_5_9', 'AGE_10_14', 'AGE_15_19',\n",
       "       'AGE_20_24', 'AGE_25_34', 'AGE_35_44', 'AGE_45_54', 'AGE_55_64',\n",
       "       'AGE_65_74', 'AGE_75_84', 'AGE_85_UP', 'MED_AGE', 'MED_AGE_M',\n",
       "       'MED_AGE_F', 'HOUSEHOLDS', 'AVE_HH_SZ', 'HSEHLD_1_M', 'HSEHLD_1_F',\n",
       "       'MARHH_CHD', 'MARHH_NO_C', 'MHH_CHILD', 'FHH_CHILD', 'FAMILIES',\n",
       "       'AVE_FAM_SZ', 'HSE_UNITS', 'VACANT', 'OWNER_OCC', 'RENTER_OCC', 'SQMI',\n",
       "       'Shape_Leng', 'Shape_Area', 'area_c', 'GIS Join Match Code',\n",
       "       'County Name', 'County Code', 'Census Tract Code', 'Block Group Code',\n",
       "       'Estimates: Area Name', 'Estimates: Total',\n",
       "       'Estimates: Not Hispanic or Latino',\n",
       "       'Estimates: Not Hispanic or Latino: White alone',\n",
       "       'Estimates: Not Hispanic or Latino: Black or African American alone',\n",
       "       'Estimates: Not Hispanic or Latino: American Indian and Alaska Native alone',\n",
       "       'Estimates: Not Hispanic or Latino: Asian alone',\n",
       "       'Estimates: Not Hispanic or Latino: Native Hawaiian and Other Pacific Islander alone',\n",
       "       'Estimates: Not Hispanic or Latino: Some other race alone',\n",
       "       'Estimates: Not Hispanic or Latino: Two or more races',\n",
       "       'Estimates: Not Hispanic or Latino: Two or more races: Two races including Some other race',\n",
       "       'Estimates: Not Hispanic or Latino: Two or more races: Two races excluding Some other race, and three or more races',\n",
       "       'Estimates: Hispanic or Latino',\n",
       "       'Estimates: Hispanic or Latino: White alone',\n",
       "       'Estimates: Hispanic or Latino: Black or African American alone',\n",
       "       'Estimates: Hispanic or Latino: American Indian and Alaska Native alone',\n",
       "       'Estimates: Hispanic or Latino: Asian alone',\n",
       "       'Estimates: Hispanic or Latino: Native Hawaiian and Other Pacific Islander alone',\n",
       "       'Estimates: Hispanic or Latino: Some other race alone',\n",
       "       'Estimates: Hispanic or Latino: Two or more races',\n",
       "       'Estimates: Hispanic or Latino: Two or more races: Two races including Some other race',\n",
       "       'Estimates: Hispanic or Latino: Two or more races: Two races excluding Some other race, and three or more races',\n",
       "       'Estimates: Median household income in the past 12 months (in 2017 inflation-adjusted dollars)'],\n",
       "      dtype='object')"
      ]
     },
     "execution_count": 13,
     "metadata": {},
     "output_type": "execute_result"
    }
   ],
   "source": [
    "(output.columns)[44:]"
   ]
  },
  {
   "cell_type": "code",
   "execution_count": 14,
   "metadata": {},
   "outputs": [],
   "source": [
    "#Without 2% filter:\n",
    "#clinton   8984948.95\n",
    "#trump     4609906.59\n",
    "#harris    7708206.55\n",
    "#sanchez   4879410.88\n",
    "\n",
    "#Parse results:\n",
    "#clinton   8916878.19\n",
    "#trump     4576116.92\n",
    "#harris    7649879.62\n",
    "#sanchez   4843210.37\n",
    "\n",
    "#Actual:\n",
    "#clinton    8753788\n",
    "#trump      4483810\n",
    "#harris     7542753\n",
    "#sanchez    4701417\n",
    "\n",
    "# Total slippage:\n",
    "# (8916878 - 8753788) / 8753788 = 0.0186307916070163\n",
    "# (4576116 - 4483810) / 4483810 = 0.020586510133123393"
   ]
  },
  {
   "cell_type": "code",
   "execution_count": 15,
   "metadata": {},
   "outputs": [],
   "source": [
    "# Create new columns\n",
    "\n",
    "output['pct_hispanic'] = output['HISPANIC']/output['POPULATION']\n",
    "output['pct_asian'] = output['ASIAN']/output['POPULATION']\n",
    "output['pct_black'] = output['BLACK']/output['POPULATION']\n",
    "output['pct_white'] = output['Estimates: Not Hispanic or Latino: White alone'] / output['Estimates: Total']\n",
    "#different methodology\n",
    "\n",
    "output['pct_sanchez'] = output['ussenate_sanchez']/(output['ussenate_harris'] + output['ussenate_sanchez'])\n",
    "output['pct_trump'] = output['pres_trump']/(output['pres_trump'] + output['pres_clinton'] + \n",
    "                                            output['pres_johnson'] + output['pres_stein'] +\n",
    "                                            output['pres_lariva'] + output[ 'pres_other'])\n",
    "output['pct_clinton'] = output['pres_clinton']/(output['pres_trump'] + output['pres_clinton'] + \n",
    "                                            output['pres_johnson'] + output['pres_stein'] +\n",
    "                                            output['pres_lariva'] + output[ 'pres_other'])\n",
    "\n",
    "prop_list = ['prop' + str(num) for num in [i for i in range(51,68)]]\n",
    "\n",
    "for i in prop_list:\n",
    "    y = i + '_yes'\n",
    "    n = i + '_no'\n",
    "    pct_y = 'pct_' + i + '_yes'\n",
    "    output[pct_y] = output[y]/(output[y] + output[n])\n",
    "\n",
    "# output['pct_prop58_yes'] = output['prop58_yes']/(output['prop58_yes'] + output['prop58_no'])\n",
    "# output['pct_prop59_yes'] = output['prop59_yes']/(output['prop59_yes'] + output['prop59_no'])\n",
    "# output['pct_prop51_yes'] = output['prop51_yes']/(output['prop51_yes'] + output['prop51_no'])\n",
    "# output['pct_prop57_yes'] = output['prop57_yes']/(output['prop57_yes'] + output['prop57_no'])\n",
    "# output['pct_prop62_yes'] = output['prop62_yes']/(output['prop62_yes'] + output['prop62_no'])\n",
    "# output['pct_prop66_yes'] = output['prop66_yes']/(output['prop66_yes'] + output['prop66_no'])\n",
    "# output['pct_prop65_yes'] = output['prop65_yes']/(output['prop65_yes'] + output['prop65_no'])\n",
    "# output['pct_prop67_yes'] = output['prop67_yes']/(output['prop67_yes'] + output['prop67_no'])\n",
    "\n",
    "\n",
    "#census['sum_pop'] = census['WHITE']+census['BLACK']+census['AMERI_ES']+census['ASIAN']+census['HAWN_PI']+census['OTHER']+census['MULT_RACE'] #+census['HISPANIC']\n"
   ]
  },
  {
   "cell_type": "code",
   "execution_count": 38,
   "metadata": {
    "scrolled": true
   },
   "outputs": [],
   "source": [
    "output.to_csv('2016_sq_result.csv')"
   ]
  },
  {
   "cell_type": "code",
   "execution_count": 17,
   "metadata": {},
   "outputs": [],
   "source": [
    "# Only precincts with enough data\n",
    "\n",
    "output_sig = output[(output['pres_clinton'] > 10) & (output['pres_trump'] > 10)]"
   ]
  },
  {
   "cell_type": "code",
   "execution_count": 18,
   "metadata": {},
   "outputs": [
    {
     "data": {
      "text/plain": [
       "Text(0, 0.5, 'Percent vote for Sanchez')"
      ]
     },
     "execution_count": 18,
     "metadata": {},
     "output_type": "execute_result"
    },
    {
     "data": {
      "image/png": "[encoded data removed]",
      "text/plain": [
       "<Figure size 432x288 with 1 Axes>"
      ]
     },
     "metadata": {
      "needs_background": "light"
     },
     "output_type": "display_data"
    }
   ],
   "source": [
    "plt.title('2016 Election Exploration')\n",
    "plt.scatter(output_sig['pct_hispanic'], output_sig['pct_sanchez'])\n",
    "plt.xlabel('Percent Hispanic')\n",
    "plt.ylabel('Percent vote for Sanchez')"
   ]
  },
  {
   "cell_type": "code",
   "execution_count": 19,
   "metadata": {},
   "outputs": [
    {
     "data": {
      "text/plain": [
       "Text(0, 0.5, 'Percent vote for Prop 58')"
      ]
     },
     "execution_count": 19,
     "metadata": {},
     "output_type": "execute_result"
    },
    {
     "data": {
      "image/png": "[encoded data removed]",
      "text/plain": [
       "<Figure size 432x288 with 1 Axes>"
      ]
     },
     "metadata": {
      "needs_background": "light"
     },
     "output_type": "display_data"
    }
   ],
   "source": [
    "plt.title('2016 Election Exploration')\n",
    "plt.scatter(output['pct_hispanic'], output['prop58_yes'] / (output['prop58_yes'] + output['prop58_no'])) \n",
    "plt.xlabel('Percent Hispanic')\n",
    "plt.ylabel('Percent vote for Prop 58')"
   ]
  },
  {
   "cell_type": "code",
   "execution_count": 20,
   "metadata": {},
   "outputs": [
    {
     "data": {
      "text/plain": [
       "Text(0, 0.5, 'Percent vote for Trump')"
      ]
     },
     "execution_count": 20,
     "metadata": {},
     "output_type": "execute_result"
    },
    {
     "data": {
      "image/png": "[encoded data removed]",
      "text/plain": [
       "<Figure size 432x288 with 1 Axes>"
      ]
     },
     "metadata": {
      "needs_background": "light"
     },
     "output_type": "display_data"
    }
   ],
   "source": [
    "plt.title('2016 Election Exploration')\n",
    "plt.scatter(output['pct_hispanic'], output['pct_trump'])\n",
    "plt.xlabel('Percent Hispanic')\n",
    "plt.ylabel('Percent vote for Trump')"
   ]
  },
  {
   "cell_type": "code",
   "execution_count": 21,
   "metadata": {},
   "outputs": [],
   "source": [
    "mapping = pd.read_csv('county_code_map.csv')\n",
    "mapping = mapping.set_index('FIPS_code') \n",
    "# hack - change this later to a dict or something\n"
   ]
  },
  {
   "cell_type": "code",
   "execution_count": 22,
   "metadata": {},
   "outputs": [
    {
     "data": {
      "text/plain": [
       "Index(['OBJECTID', 'pres_clinton', 'pres_trump', 'pres_johnson', 'pres_stein',\n",
       "       'pres_lariva', 'pres_other', 'ussenate_harris', 'ussenate_sanchez',\n",
       "       'prop51_yes',\n",
       "       ...\n",
       "       'pct_prop58_yes', 'pct_prop59_yes', 'pct_prop60_yes', 'pct_prop61_yes',\n",
       "       'pct_prop62_yes', 'pct_prop63_yes', 'pct_prop64_yes', 'pct_prop65_yes',\n",
       "       'pct_prop66_yes', 'pct_prop67_yes'],\n",
       "      dtype='object', length=149)"
      ]
     },
     "execution_count": 22,
     "metadata": {},
     "output_type": "execute_result"
    }
   ],
   "source": [
    "output.columns"
   ]
  },
  {
   "cell_type": "code",
   "execution_count": 23,
   "metadata": {},
   "outputs": [
    {
     "name": "stdout",
     "output_type": "stream",
     "text": [
      "21828\n",
      "21277\n"
     ]
    }
   ],
   "source": [
    "output_g = output[output['pct_hispanic'] > 0.05]\n",
    "print(len(output_g))\n",
    "output_g = output_g.dropna()\n",
    "print(len(output_g))\n",
    "\n",
    "X = np.array(output_g['pct_hispanic']).reshape(-1,1)\n",
    "y = np.array(output_g['prop57_yes']) #pct_sanchez\n",
    "\n",
    "\n",
    "output_g = output_g[reduce]"
   ]
  },
  {
   "cell_type": "code",
   "execution_count": 24,
   "metadata": {},
   "outputs": [
    {
     "data": {
      "text/plain": [
       "Index(['pres_clinton', 'pres_trump', 'pres_johnson', 'pres_stein',\n",
       "       'pres_lariva', 'pres_other', 'ussenate_harris', 'ussenate_sanchez',\n",
       "       'prop51_yes', 'prop51_no', 'prop52_yes', 'prop52_no', 'prop53_yes',\n",
       "       'prop53_no', 'prop54_yes', 'prop54_no', 'prop55_yes', 'prop55_no',\n",
       "       'prop56_yes', 'prop56_no', 'prop57_yes', 'prop57_no', 'prop58_yes',\n",
       "       'prop58_no', 'prop59_yes', 'prop59_no', 'prop60_yes', 'prop60_no',\n",
       "       'prop61_yes', 'prop61_no', 'prop62_yes', 'prop62_no', 'prop63_yes',\n",
       "       'prop63_no', 'prop64_yes', 'prop64_no', 'prop65_yes', 'prop65_no',\n",
       "       'prop66_yes', 'prop66_no', 'prop67_yes', 'prop67_no', 'votedensity'],\n",
       "      dtype='object')"
      ]
     },
     "execution_count": 24,
     "metadata": {},
     "output_type": "execute_result"
    }
   ],
   "source": [
    "output_g.columns"
   ]
  },
  {
   "cell_type": "code",
   "execution_count": 25,
   "metadata": {
    "scrolled": true
   },
   "outputs": [
    {
     "data": {
      "text/html": [
       "<div>\n",
       "<style scoped>\n",
       "    .dataframe tbody tr th:only-of-type {\n",
       "        vertical-align: middle;\n",
       "    }\n",
       "\n",
       "    .dataframe tbody tr th {\n",
       "        vertical-align: top;\n",
       "    }\n",
       "\n",
       "    .dataframe thead th {\n",
       "        text-align: right;\n",
       "    }\n",
       "</style>\n",
       "<table border=\"1\" class=\"dataframe\">\n",
       "  <thead>\n",
       "    <tr style=\"text-align: right;\">\n",
       "      <th></th>\n",
       "      <th>linear correlation</th>\n",
       "    </tr>\n",
       "  </thead>\n",
       "  <tbody>\n",
       "    <tr>\n",
       "      <th>prop57_yes</th>\n",
       "      <td>31938027357435744256.00</td>\n",
       "    </tr>\n",
       "    <tr>\n",
       "      <th>prop59_yes</th>\n",
       "      <td>1184405.66</td>\n",
       "    </tr>\n",
       "    <tr>\n",
       "      <th>prop61_yes</th>\n",
       "      <td>972732.50</td>\n",
       "    </tr>\n",
       "    <tr>\n",
       "      <th>prop58_yes</th>\n",
       "      <td>966492.72</td>\n",
       "    </tr>\n",
       "    <tr>\n",
       "      <th>prop56_yes</th>\n",
       "      <td>778891.49</td>\n",
       "    </tr>\n",
       "    <tr>\n",
       "      <th>prop64_yes</th>\n",
       "      <td>768701.06</td>\n",
       "    </tr>\n",
       "    <tr>\n",
       "      <th>prop52_yes</th>\n",
       "      <td>738101.48</td>\n",
       "    </tr>\n",
       "    <tr>\n",
       "      <th>prop63_yes</th>\n",
       "      <td>648207.40</td>\n",
       "    </tr>\n",
       "    <tr>\n",
       "      <th>prop66_no</th>\n",
       "      <td>577990.40</td>\n",
       "    </tr>\n",
       "    <tr>\n",
       "      <th>prop55_yes</th>\n",
       "      <td>513369.04</td>\n",
       "    </tr>\n",
       "    <tr>\n",
       "      <th>prop62_yes</th>\n",
       "      <td>481925.82</td>\n",
       "    </tr>\n",
       "    <tr>\n",
       "      <th>prop67_yes</th>\n",
       "      <td>428495.08</td>\n",
       "    </tr>\n",
       "    <tr>\n",
       "      <th>pres_clinton</th>\n",
       "      <td>353574.62</td>\n",
       "    </tr>\n",
       "    <tr>\n",
       "      <th>prop65_yes</th>\n",
       "      <td>352833.71</td>\n",
       "    </tr>\n",
       "    <tr>\n",
       "      <th>prop53_no</th>\n",
       "      <td>339689.54</td>\n",
       "    </tr>\n",
       "    <tr>\n",
       "      <th>ussenate_harris</th>\n",
       "      <td>338750.85</td>\n",
       "    </tr>\n",
       "    <tr>\n",
       "      <th>prop51_yes</th>\n",
       "      <td>292574.39</td>\n",
       "    </tr>\n",
       "    <tr>\n",
       "      <th>prop54_no</th>\n",
       "      <td>213313.11</td>\n",
       "    </tr>\n",
       "    <tr>\n",
       "      <th>prop54_yes</th>\n",
       "      <td>172087.98</td>\n",
       "    </tr>\n",
       "    <tr>\n",
       "      <th>prop60_no</th>\n",
       "      <td>124006.75</td>\n",
       "    </tr>\n",
       "    <tr>\n",
       "      <th>prop60_yes</th>\n",
       "      <td>97955.13</td>\n",
       "    </tr>\n",
       "    <tr>\n",
       "      <th>prop65_no</th>\n",
       "      <td>85897.55</td>\n",
       "    </tr>\n",
       "    <tr>\n",
       "      <th>prop53_yes</th>\n",
       "      <td>78747.82</td>\n",
       "    </tr>\n",
       "    <tr>\n",
       "      <th>prop66_yes</th>\n",
       "      <td>68599.37</td>\n",
       "    </tr>\n",
       "    <tr>\n",
       "      <th>prop61_no</th>\n",
       "      <td>68410.49</td>\n",
       "    </tr>\n",
       "    <tr>\n",
       "      <th>ussenate_sanchez</th>\n",
       "      <td>52224.69</td>\n",
       "    </tr>\n",
       "    <tr>\n",
       "      <th>prop64_no</th>\n",
       "      <td>51621.45</td>\n",
       "    </tr>\n",
       "    <tr>\n",
       "      <th>prop51_no</th>\n",
       "      <td>49401.92</td>\n",
       "    </tr>\n",
       "    <tr>\n",
       "      <th>prop59_no</th>\n",
       "      <td>47225.93</td>\n",
       "    </tr>\n",
       "    <tr>\n",
       "      <th>prop52_no</th>\n",
       "      <td>46803.83</td>\n",
       "    </tr>\n",
       "    <tr>\n",
       "      <th>prop62_no</th>\n",
       "      <td>44439.61</td>\n",
       "    </tr>\n",
       "    <tr>\n",
       "      <th>pres_johnson</th>\n",
       "      <td>41793.43</td>\n",
       "    </tr>\n",
       "    <tr>\n",
       "      <th>pres_stein</th>\n",
       "      <td>40572.04</td>\n",
       "    </tr>\n",
       "    <tr>\n",
       "      <th>prop55_no</th>\n",
       "      <td>36995.48</td>\n",
       "    </tr>\n",
       "    <tr>\n",
       "      <th>prop67_no</th>\n",
       "      <td>36316.01</td>\n",
       "    </tr>\n",
       "    <tr>\n",
       "      <th>prop56_no</th>\n",
       "      <td>34970.59</td>\n",
       "    </tr>\n",
       "    <tr>\n",
       "      <th>prop58_no</th>\n",
       "      <td>30650.51</td>\n",
       "    </tr>\n",
       "    <tr>\n",
       "      <th>prop57_no</th>\n",
       "      <td>28923.66</td>\n",
       "    </tr>\n",
       "    <tr>\n",
       "      <th>prop63_no</th>\n",
       "      <td>23924.15</td>\n",
       "    </tr>\n",
       "    <tr>\n",
       "      <th>pres_trump</th>\n",
       "      <td>17533.61</td>\n",
       "    </tr>\n",
       "    <tr>\n",
       "      <th>pres_lariva</th>\n",
       "      <td>12306.62</td>\n",
       "    </tr>\n",
       "    <tr>\n",
       "      <th>pres_other</th>\n",
       "      <td>2377.34</td>\n",
       "    </tr>\n",
       "    <tr>\n",
       "      <th>votedensity</th>\n",
       "      <td>6.99</td>\n",
       "    </tr>\n",
       "  </tbody>\n",
       "</table>\n",
       "</div>"
      ],
      "text/plain": [
       "                      linear correlation\n",
       "prop57_yes       31938027357435744256.00\n",
       "prop59_yes                    1184405.66\n",
       "prop61_yes                     972732.50\n",
       "prop58_yes                     966492.72\n",
       "prop56_yes                     778891.49\n",
       "prop64_yes                     768701.06\n",
       "prop52_yes                     738101.48\n",
       "prop63_yes                     648207.40\n",
       "prop66_no                      577990.40\n",
       "prop55_yes                     513369.04\n",
       "prop62_yes                     481925.82\n",
       "prop67_yes                     428495.08\n",
       "pres_clinton                   353574.62\n",
       "prop65_yes                     352833.71\n",
       "prop53_no                      339689.54\n",
       "ussenate_harris                338750.85\n",
       "prop51_yes                     292574.39\n",
       "prop54_no                      213313.11\n",
       "prop54_yes                     172087.98\n",
       "prop60_no                      124006.75\n",
       "prop60_yes                      97955.13\n",
       "prop65_no                       85897.55\n",
       "prop53_yes                      78747.82\n",
       "prop66_yes                      68599.37\n",
       "prop61_no                       68410.49\n",
       "ussenate_sanchez                52224.69\n",
       "prop64_no                       51621.45\n",
       "prop51_no                       49401.92\n",
       "prop59_no                       47225.93\n",
       "prop52_no                       46803.83\n",
       "prop62_no                       44439.61\n",
       "pres_johnson                    41793.43\n",
       "pres_stein                      40572.04\n",
       "prop55_no                       36995.48\n",
       "prop67_no                       36316.01\n",
       "prop56_no                       34970.59\n",
       "prop58_no                       30650.51\n",
       "prop57_no                       28923.66\n",
       "prop63_no                       23924.15\n",
       "pres_trump                      17533.61\n",
       "pres_lariva                     12306.62\n",
       "pres_other                       2377.34\n",
       "votedensity                         6.99"
      ]
     },
     "execution_count": 25,
     "metadata": {},
     "output_type": "execute_result"
    }
   ],
   "source": [
    "F, pval  = f_regression(output_g, y.ravel())\n",
    "pd.DataFrame(F,index=output_g.columns,columns=['linear correlation']).sort_values('linear correlation',ascending=False)#.head()"
   ]
  },
  {
   "cell_type": "code",
   "execution_count": 26,
   "metadata": {},
   "outputs": [
    {
     "data": {
      "text/plain": [
       "Text(0, 0.5, 'Percent vote for Trump')"
      ]
     },
     "execution_count": 26,
     "metadata": {},
     "output_type": "execute_result"
    },
    {
     "data": {
      "image/png": "[encoded data removed]",
      "text/plain": [
       "<Figure size 432x288 with 1 Axes>"
      ]
     },
     "metadata": {
      "needs_background": "light"
     },
     "output_type": "display_data"
    }
   ],
   "source": [
    "plt.title('2016 Election Exploration')\n",
    "plt.scatter(output['pct_prop51_yes'], output['pct_trump'])\n",
    "plt.xlabel('Percent Prop 51 Yes')\n",
    "plt.ylabel('Percent vote for Trump')\n",
    "\n",
    "# FYI:\n",
    "#     Total votes: 14,610,509\n",
    "# Registered voters/turnout\t19,411,771\n"
   ]
  },
  {
   "cell_type": "code",
   "execution_count": 27,
   "metadata": {},
   "outputs": [
    {
     "data": {
      "text/plain": [
       "Text(0, 0.5, 'Percent vote for Trump')"
      ]
     },
     "execution_count": 27,
     "metadata": {},
     "output_type": "execute_result"
    },
    {
     "data": {
      "image/png": "[encoded data removed]",
      "text/plain": [
       "<Figure size 432x288 with 1 Axes>"
      ]
     },
     "metadata": {
      "needs_background": "light"
     },
     "output_type": "display_data"
    }
   ],
   "source": [
    "plt.title('2016 Election Exploration')\n",
    "plt.scatter(output['pct_prop57_yes'], output['pct_trump'])\n",
    "plt.xlabel('Percent Prop 57 Yes')\n",
    "plt.ylabel('Percent vote for Trump')\n",
    "\n",
    "# FYI:\n",
    "#     Total votes: 14,610,509\n",
    "# Registered voters/turnout\t19,411,771\n"
   ]
  },
  {
   "cell_type": "code",
   "execution_count": 28,
   "metadata": {},
   "outputs": [
    {
     "data": {
      "text/plain": [
       "Text(0, 0.5, 'Percent vote for Trump')"
      ]
     },
     "execution_count": 28,
     "metadata": {},
     "output_type": "execute_result"
    },
    {
     "data": {
      "image/png": "[encoded data removed]",
      "text/plain": [
       "<Figure size 432x288 with 1 Axes>"
      ]
     },
     "metadata": {
      "needs_background": "light"
     },
     "output_type": "display_data"
    }
   ],
   "source": [
    "plt.title('2016 Election Exploration')\n",
    "plt.scatter(output['pct_prop59_yes'], output['pct_trump'])\n",
    "plt.xlabel('Percent Prop 59 Yes')\n",
    "plt.ylabel('Percent vote for Trump')\n",
    "\n",
    "# FYI:\n",
    "#     Total votes: 14,610,509\n",
    "# Registered voters/turnout\t19,411,771"
   ]
  },
  {
   "cell_type": "code",
   "execution_count": 29,
   "metadata": {},
   "outputs": [
    {
     "data": {
      "text/plain": [
       "Text(0, 0.5, 'Percent vote for Trump')"
      ]
     },
     "execution_count": 29,
     "metadata": {},
     "output_type": "execute_result"
    },
    {
     "data": {
      "image/png": "[encoded data removed]",
      "text/plain": [
       "<Figure size 432x288 with 1 Axes>"
      ]
     },
     "metadata": {
      "needs_background": "light"
     },
     "output_type": "display_data"
    }
   ],
   "source": [
    "plt.title('2016 Election Exploration')\n",
    "plt.scatter(output['pct_prop62_yes'], output['pct_trump'])\n",
    "plt.xlabel('Percent Prop 62 Yes')\n",
    "plt.ylabel('Percent vote for Trump')"
   ]
  },
  {
   "cell_type": "code",
   "execution_count": 30,
   "metadata": {},
   "outputs": [
    {
     "data": {
      "text/plain": [
       "Text(0, 0.5, 'Percent Black')"
      ]
     },
     "execution_count": 30,
     "metadata": {},
     "output_type": "execute_result"
    },
    {
     "data": {
      "image/png": "[encoded data removed]",
      "text/plain": [
       "<Figure size 432x288 with 1 Axes>"
      ]
     },
     "metadata": {
      "needs_background": "light"
     },
     "output_type": "display_data"
    }
   ],
   "source": [
    "plt.title('2016 Election Exploration')\n",
    "plt.scatter(output['pct_black'], output['pct_prop62_yes'])\n",
    "plt.xlabel('Percent Prop 62 Yes')\n",
    "plt.ylabel('Percent Black')"
   ]
  },
  {
   "cell_type": "code",
   "execution_count": 31,
   "metadata": {},
   "outputs": [
    {
     "data": {
      "text/plain": [
       "Text(0, 0.5, 'Percent Trump')"
      ]
     },
     "execution_count": 31,
     "metadata": {},
     "output_type": "execute_result"
    },
    {
     "data": {
      "image/png": "[encoded data removed]",
      "text/plain": [
       "<Figure size 432x288 with 1 Axes>"
      ]
     },
     "metadata": {
      "needs_background": "light"
     },
     "output_type": "display_data"
    }
   ],
   "source": [
    "plt.title('2016 Election Exploration')\n",
    "plt.scatter(output['pct_trump'], output['pct_prop66_yes'])\n",
    "plt.xlabel('Percent Prop 66 Yes')\n",
    "plt.ylabel('Percent Trump')"
   ]
  },
  {
   "cell_type": "code",
   "execution_count": 32,
   "metadata": {
    "scrolled": true
   },
   "outputs": [
    {
     "data": {
      "text/plain": [
       "Text(0, 0.5, 'Percent Prop 67 Yes')"
      ]
     },
     "execution_count": 32,
     "metadata": {},
     "output_type": "execute_result"
    },
    {
     "data": {
      "image/png": "[encoded data removed]",
      "text/plain": [
       "<Figure size 432x288 with 1 Axes>"
      ]
     },
     "metadata": {
      "needs_background": "light"
     },
     "output_type": "display_data"
    }
   ],
   "source": [
    "plt.title('2016 Election Exploration')\n",
    "mask = (output[output['prop65_yes'] > 60])\n",
    "\n",
    "plt.scatter(mask['pct_prop65_yes'], mask['pct_prop67_yes'])\n",
    "plt.xlabel('Percent Prop 65 Yes')\n",
    "plt.ylabel('Percent Prop 67 Yes')"
   ]
  },
  {
   "cell_type": "code",
   "execution_count": 33,
   "metadata": {},
   "outputs": [
    {
     "data": {
      "text/plain": [
       "Text(0, 0.5, 'Percent Prop 67 Yes')"
      ]
     },
     "execution_count": 33,
     "metadata": {},
     "output_type": "execute_result"
    },
    {
     "data": {
      "image/png": "[encoded data removed]",
      "text/plain": [
       "<Figure size 432x288 with 1 Axes>"
      ]
     },
     "metadata": {
      "needs_background": "light"
     },
     "output_type": "display_data"
    }
   ],
   "source": [
    "plt.scatter(mask[mask['County Name'] == \"Santa Clara County\"]['pct_prop65_yes'], mask[mask['County Name'] == \"Santa Clara County\"]['pct_prop67_yes'])\n",
    "plt.scatter(mask[mask['County Name'] == \"San Francisco County\"]['pct_prop65_yes'], mask[mask['County Name'] == \"San Francisco County\"]['pct_prop67_yes'])\n",
    "plt.scatter(mask[mask['County Name'] == \"Kern County\"]['pct_prop65_yes'], mask[mask['County Name'] == \"Kern County\"]['pct_prop67_yes'])\n",
    "plt.scatter(mask[mask['County Name'] == \"San Diego County\"]['pct_prop65_yes'], mask[mask['County Name'] == \"San Diego County\"]['pct_prop67_yes'])\n",
    "plt.legend(['Santa Clara County','San Francisco County', 'Kern County','San Diego County'])\n",
    "plt.xlabel('Percent Prop 65 Yes')\n",
    "plt.ylabel('Percent Prop 67 Yes')"
   ]
  },
  {
   "cell_type": "code",
   "execution_count": 34,
   "metadata": {},
   "outputs": [
    {
     "data": {
      "text/plain": [
       "Text(0, 0.5, 'Percent Prop 67 Yes')"
      ]
     },
     "execution_count": 34,
     "metadata": {},
     "output_type": "execute_result"
    },
    {
     "data": {
      "image/png": "[encoded data removed]",
      "text/plain": [
       "<Figure size 432x288 with 1 Axes>"
      ]
     },
     "metadata": {
      "needs_background": "light"
     },
     "output_type": "display_data"
    }
   ],
   "source": [
    "plt.scatter(mask[mask['County Name'] == \"Los Angeles County\"]['pct_prop65_yes'], mask[mask['County Name'] == \"Los Angeles County\"]['pct_prop67_yes'])\n",
    "plt.scatter(mask[mask['County Name'] == \"Orange County\"]['pct_prop65_yes'], mask[mask['County Name'] == \"Orange County\"]['pct_prop67_yes'])\n",
    "plt.legend(['Los Angeles County','Orange County'])\n",
    "plt.xlabel('Percent Prop 65 Yes')\n",
    "plt.ylabel('Percent Prop 67 Yes')"
   ]
  },
  {
   "cell_type": "code",
   "execution_count": 35,
   "metadata": {},
   "outputs": [
    {
     "data": {
      "text/plain": [
       "Text(0, 0.5, 'Percent Prop 67 Yes')"
      ]
     },
     "execution_count": 35,
     "metadata": {},
     "output_type": "execute_result"
    },
    {
     "data": {
      "image/png": "[encoded data removed]",
      "text/plain": [
       "<Figure size 432x288 with 1 Axes>"
      ]
     },
     "metadata": {
      "needs_background": "light"
     },
     "output_type": "display_data"
    }
   ],
   "source": [
    "# new mask\n",
    "\n",
    "mask = (output[output['pct_hispanic'] > .5])\n",
    "mask = (mask[mask['prop65_yes'] > 60])\n",
    "\n",
    "plt.scatter(mask[mask['County Name'] == \"Santa Clara County\"]['pct_prop65_yes'], mask[mask['County Name'] == \"Santa Clara County\"]['pct_prop67_yes'])\n",
    "plt.scatter(mask[mask['County Name'] == \"San Francisco County\"]['pct_prop65_yes'], mask[mask['County Name'] == \"San Francisco County\"]['pct_prop67_yes'])\n",
    "plt.scatter(mask[mask['County Name'] == \"Kern County\"]['pct_prop65_yes'], mask[mask['County Name'] == \"Kern County\"]['pct_prop67_yes'])\n",
    "plt.scatter(mask[mask['County Name'] == \"San Diego County\"]['pct_prop65_yes'], mask[mask['County Name'] == \"San Diego County\"]['pct_prop67_yes'])\n",
    "plt.legend(['Santa Clara County','San Francisco County', 'Kern County','San Diego County'])\n",
    "plt.xlabel('Percent Prop 65 Yes')\n",
    "plt.ylabel('Percent Prop 67 Yes')"
   ]
  },
  {
   "cell_type": "code",
   "execution_count": 54,
   "metadata": {},
   "outputs": [],
   "source": [
    "mask = (output[output['prop65_yes'] > 20])\n",
    "\n",
    "# plt.scatter(mask[mask['County Name'] == \"Santa Clara County\"]['Estimates: Median household income in the past 12 months (in 2017 inflation-adjusted dollars)'], mask[mask['County Name'] == \"Santa Clara County\"]['pct_prop55_yes'])\n",
    "# plt.scatter(mask[mask['County Name'] == \"San Francisco County\"]['Estimates: Median household income in the past 12 months (in 2017 inflation-adjusted dollars)'], mask[mask['County Name'] == \"San Francisco County\"]['pct_prop55_yes'])\n",
    "# plt.scatter(mask[mask['County Name'] == \"Orange County\"]['Estimates: Median household income in the past 12 months (in 2017 inflation-adjusted dollars)'], mask[mask['County Name'] == \"Orange County\"]['pct_prop55_yes'])\n",
    "# plt.scatter(mask[mask['County Name'] == \"Kern County\"]['Estimates: Median household income in the past 12 months (in 2017 inflation-adjusted dollars)'], mask[mask['County Name'] == \"Kern County\"]['pct_prop55_yes'])\n",
    "# plt.scatter(mask[mask['County Name'] == \"San Diego County\"]['Estimates: Median household income in the past 12 months (in 2017 inflation-adjusted dollars)'], mask[mask['County Name'] == \"San Diego County\"]['pct_prop55_yes'])\n",
    "# plt.legend(['Santa Clara County','San Francisco County', 'Orange County',Kern County','San Diego County'])\n",
    "\n",
    "# plt.scatter(output['Estimates: Median household income in the past 12 months (in 2017 inflation-adjusted dollars)'], output['pct_prop55_yes'])\n",
    "\n",
    "# Take these slices, reshape dataframe on that then calculate F and pval to see which counties are most similar\n"
   ]
  },
  {
   "cell_type": "code",
   "execution_count": 36,
   "metadata": {},
   "outputs": [
    {
     "data": {
      "text/plain": [
       "Los Angeles County        6380\n",
       "Orange County             1805\n",
       "San Diego County          1775\n",
       "San Bernardino County     1077\n",
       "Santa Clara County        1056\n",
       "Alameda County            1038\n",
       "Riverside County          1014\n",
       "Sacramento County          906\n",
       "Contra Costa County        622\n",
       "San Francisco County       577\n",
       "Fresno County              575\n",
       "San Mateo County           455\n",
       "Kern County                441\n",
       "Ventura County             422\n",
       "San Joaquin County         391\n",
       "Sonoma County              382\n",
       "Santa Barbara County       306\n",
       "Stanislaus County          300\n",
       "Solano County              268\n",
       "Tulare County              260\n",
       "Monterey County            226\n",
       "Placer County              205\n",
       "Butte County               193\n",
       "Santa Cruz County          185\n",
       "Marin County               170\n",
       "San Luis Obispo County     154\n",
       "Merced County              140\n",
       "El Dorado County           124\n",
       "Shasta County              123\n",
       "Yolo County                120\n",
       "Humboldt County            104\n",
       "Napa County                 98\n",
       "Imperial County             94\n",
       "Mendocino County            77\n",
       "Madera County               75\n",
       "Kings County                73\n",
       "Nevada County               73\n",
       "Sutter County               62\n",
       "Yuba County                 49\n",
       "Lake County                 46\n",
       "Tuolumne County             42\n",
       "Tehama County               39\n",
       "San Benito County           38\n",
       "Siskiyou County             32\n",
       "Calaveras County            30\n",
       "Lassen County               24\n",
       "Amador County               24\n",
       "Plumas County               22\n",
       "Glenn County                21\n",
       "Colusa County               19\n",
       "Del Norte County            17\n",
       "Mariposa County             16\n",
       "Mono County                 16\n",
       "Inyo County                 13\n",
       "Trinity County              12\n",
       "Modoc County                12\n",
       "Sierra County                5\n",
       "Alpine County                2\n",
       "Name: County Name, dtype: int64"
      ]
     },
     "execution_count": 36,
     "metadata": {},
     "output_type": "execute_result"
    }
   ],
   "source": [
    "output['County Name'].value_counts()"
   ]
  },
  {
   "cell_type": "code",
   "execution_count": 37,
   "metadata": {},
   "outputs": [
    {
     "data": {
      "text/plain": [
       "Index(['OBJECTID', 'pres_clinton', 'pres_trump', 'pres_johnson', 'pres_stein',\n",
       "       'pres_lariva', 'pres_other', 'ussenate_harris', 'ussenate_sanchez',\n",
       "       'prop51_yes', 'prop51_no', 'prop52_yes', 'prop52_no', 'prop53_yes',\n",
       "       'prop53_no', 'prop54_yes', 'prop54_no', 'prop55_yes', 'prop55_no',\n",
       "       'prop56_yes', 'prop56_no', 'prop57_yes', 'prop57_no', 'prop58_yes',\n",
       "       'prop58_no', 'prop59_yes', 'prop59_no', 'prop60_yes', 'prop60_no',\n",
       "       'prop61_yes', 'prop61_no', 'prop62_yes', 'prop62_no', 'prop63_yes',\n",
       "       'prop63_no', 'prop64_yes', 'prop64_no', 'prop65_yes', 'prop65_no',\n",
       "       'prop66_yes', 'prop66_no', 'prop67_yes', 'prop67_no', 'votedensity',\n",
       "       'STATE_FIPS', 'CNTY_FIPS', 'STCOFIPS', 'TRACT', 'BLKGRP', 'FIPS'],\n",
       "      dtype='object')"
      ]
     },
     "execution_count": 37,
     "metadata": {},
     "output_type": "execute_result"
    }
   ],
   "source": [
    "output.columns[:50]"
   ]
  }
 ],
 "metadata": {
  "kernelspec": {
   "display_name": "Python 3",
   "language": "python",
   "name": "python3"
  },
  "language_info": {
   "codemirror_mode": {
    "name": "ipython",
    "version": 3
   },
   "file_extension": ".py",
   "mimetype": "text/x-python",
   "name": "python",
   "nbconvert_exporter": "python",
   "pygments_lexer": "ipython3",
   "version": "3.7.3"
  }
 },
 "nbformat": 4,
 "nbformat_minor": 2
}
